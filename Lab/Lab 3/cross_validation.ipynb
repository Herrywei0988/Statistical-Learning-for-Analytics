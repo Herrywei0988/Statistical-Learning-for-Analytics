{
 "cells": [
  {
   "cell_type": "raw",
   "metadata": {},
   "source": [
    "---\n",
    "format: \n",
    "    html: \n",
    "        embed-resources: true\n",
    "--- "
   ]
  },
  {
   "attachments": {},
   "cell_type": "markdown",
   "metadata": {},
   "source": [
    "# Lab: Cross-Validation\n"
   ]
  },
  {
   "cell_type": "markdown",
   "metadata": {},
   "source": [
    "**Instructions**\n",
    "\n",
    "* Read and complete all exercises below in the provided `.qmd` notebook (or `.ipynb` file if you prefer, both files are identical aside from the formatting)\n",
    "  \n",
    "**Submission:**\n",
    "\n",
    "* You need to upload ONE document to Canvas when you are done. \n",
    "* A PDF (or HTML) of the completed form of this notebook\n",
    "* The final uploaded version should NOT have any code-errors present. \n",
    "* All outputs must be visible in the uploaded version, including code-cell outputs, images, graphs, etc\n",
    "\n",
    "**Optional**: \n",
    "\n",
    "* You can actually work in `R` now inside VS-code using the `.ipynb` format\n",
    "* Its quite easy to get working: [click here for instructions](https://www.practicaldatascience.org/html/jupyter_r_notebooks.html)\n",
    "* There are a few benefits to this \n",
    "  * (1) You can work 100% in VS-Code (for both R and Python), no need to switch between VSC and R-studio\n",
    "  * (2) You can work through your cells one at a time and see the incremental progress, similar to using `.ipynb` with python or `rmd` in R-studio.\n",
    "* With Quarto's `convert` command, you can re-format and jump between the different file-formats. For example, \n",
    "* `quarto convert HW-2.rmd` will convert the file to `HW-2.ipynb`\n",
    "* `quarto convert HW-2.ipynb` will convert the file to `HW-2.qmd`, which can be renamed `HW-2.rmd` or just opened in R-studio like any other `rmd` file, just like normal.\n",
    "* `quarto render HW-2.ipynb` will render the notebook (either R or Python) into an aesthetically pleasing output.\n",
    "\n",
    "## Part-1: Demonstration\n",
    "We will work through the following section in class as a technical example.\n",
    "\n",
    "### Import"
   ]
  },
  {
   "cell_type": "code",
   "execution_count": 1,
   "metadata": {},
   "outputs": [
    {
     "name": "stderr",
     "output_type": "stream",
     "text": [
      "Installing package into 'C:/Users/USER/AppData/Local/R/win-library/4.4'\n",
      "(as 'lib' is unspecified)\n",
      "\n"
     ]
    },
    {
     "name": "stdout",
     "output_type": "stream",
     "text": [
      "package 'ISLR' successfully unpacked and MD5 sums checked\n",
      "\n",
      "The downloaded binary packages are in\n",
      "\tC:\\Users\\USER\\AppData\\Local\\Temp\\RtmpGYA0u1\\downloaded_packages\n"
     ]
    }
   ],
   "source": [
    "install.packages(\"ISLR\")"
   ]
  },
  {
   "cell_type": "code",
   "execution_count": 2,
   "metadata": {},
   "outputs": [
    {
     "name": "stderr",
     "output_type": "stream",
     "text": [
      "Loading required package: boot\n",
      "\n"
     ]
    }
   ],
   "source": [
    "# install.packages(\"ISLR\");\n",
    "library(ISLR) \n",
    "require(boot)"
   ]
  },
  {
   "cell_type": "code",
   "execution_count": 35,
   "metadata": {},
   "outputs": [
    {
     "name": "stderr",
     "output_type": "stream",
     "text": [
      "starting httpd help server ...\n",
      " done\n",
      "\n"
     ]
    },
    {
     "name": "stdout",
     "output_type": "stream",
     "text": [
      "\n"
     ]
    }
   ],
   "source": [
    "# GET INFO ABOUT CROSS VALIDATION PACKAGE\n",
    "output <- capture.output(help(cv.glm))\n",
    "cat(output, sep = \"\\n\")"
   ]
  },
  {
   "cell_type": "code",
   "execution_count": 4,
   "metadata": {},
   "outputs": [
    {
     "name": "stdout",
     "output_type": "stream",
     "text": [
      "[1] \"data.frame\"\n",
      "[1] 392   9\n",
      "  mpg cylinders displacement horsepower weight acceleration year origin\n",
      "1  18         8          307        130   3504         12.0   70      1\n",
      "2  15         8          350        165   3693         11.5   70      1\n",
      "3  18         8          318        150   3436         11.0   70      1\n"
     ]
    }
   ],
   "source": [
    "# GET DATA\n",
    "data(Auto)\n",
    "df=Auto\n",
    "\n",
    "# EXPLORE DATA\n",
    "print(class(df))\n",
    "print(dim(df))\n",
    "print(df[1:3,1:8])"
   ]
  },
  {
   "cell_type": "code",
   "execution_count": 5,
   "metadata": {},
   "outputs": [
    {
     "data": {
      "image/png": "[encoded data removed]",
      "text/plain": [
       "plot without title"
      ]
     },
     "metadata": {
      "image/png": {
       "height": 420,
       "width": 420
      }
     },
     "output_type": "display_data"
    }
   ],
   "source": [
    "# PLOT THE DATA \n",
    "# plot(mpg~horsepower,data = Auto)\n",
    "plot(df$horsepower,df$mpg)"
   ]
  },
  {
   "cell_type": "markdown",
   "metadata": {},
   "source": [
    "### Leave-One-Out Cross-Validation\n",
    "\n",
    "We can do a linear fit as usual with `lm` function"
   ]
  },
  {
   "cell_type": "code",
   "execution_count": 6,
   "metadata": {},
   "outputs": [
    {
     "name": "stdout",
     "output_type": "stream",
     "text": [
      "(Intercept)  horsepower \n",
      " 39.9358610  -0.1578447 \n"
     ]
    }
   ],
   "source": [
    "lm.fit=lm(mpg~horsepower,data=df)\n",
    "# print(lm.fit)\n",
    "print(coef(lm.fit))"
   ]
  },
  {
   "cell_type": "markdown",
   "metadata": {},
   "source": [
    "If we use glm() to fit a model without passing in the family argument, then it performs linear regression, just like the lm() function."
   ]
  },
  {
   "cell_type": "code",
   "execution_count": 7,
   "metadata": {},
   "outputs": [
    {
     "name": "stdout",
     "output_type": "stream",
     "text": [
      "(Intercept)  horsepower \n",
      " 39.9358610  -0.1578447 \n",
      "(Intercept)  horsepower \n",
      " 39.9358610  -0.1578447 \n"
     ]
    },
    {
     "data": {
      "image/png": "[encoded data removed]",
      "text/plain": [
       "plot without title"
      ]
     },
     "metadata": {
      "image/png": {
       "height": 420,
       "width": 420
      }
     },
     "output_type": "display_data"
    }
   ],
   "source": [
    "# FIT THE MODEL \n",
    "# glm.fit=glm(mpg~horsepower,data=Auto)\n",
    "glm.fit=glm(mpg~horsepower,data=df)\n",
    "print(coef(glm.fit))\n",
    "\n",
    "# PLOT THE RESULTS\n",
    "b=coef(glm.fit)[1]\n",
    "m=coef(glm.fit)[2]\n",
    "print(c(b,m))\n",
    "plot(df$horsepower,df$mpg)\n",
    "points(df$horsepower,m*df$horsepower+b, col = \"#1b98e0\")"
   ]
  },
  {
   "cell_type": "markdown",
   "metadata": {},
   "source": [
    "You can see the result in identical linear regression models.\n",
    "\n",
    "We will perform linear regression using the glm() function rather than the lm() function because the former can be used together with the cv.glm() function, which is part of the boot library."
   ]
  },
  {
   "cell_type": "code",
   "execution_count": 8,
   "metadata": {},
   "outputs": [],
   "source": [
    "cv=cv.glm(Auto,glm.fit) #pretty slow (doesn't use  formula (5.2))"
   ]
  },
  {
   "cell_type": "code",
   "execution_count": 9,
   "metadata": {},
   "outputs": [
    {
     "name": "stdout",
     "output_type": "stream",
     "text": [
      "      Length Class  Mode   \n",
      "call    3    -none- call   \n",
      "K       1    -none- numeric\n",
      "delta   2    -none- numeric\n",
      "seed  626    -none- numeric\n",
      "[1] 24.23151 24.23114\n"
     ]
    }
   ],
   "source": [
    "print(summary(cv))\n",
    "print(cv$delta)"
   ]
  },
  {
   "cell_type": "code",
   "execution_count": 10,
   "metadata": {},
   "outputs": [
    {
     "name": "stdout",
     "output_type": "stream",
     "text": [
      "[1] 23.94366\n",
      "[1] 3.827587\n",
      "[1] 4.893226\n"
     ]
    }
   ],
   "source": [
    "## PRINT MSE, RMSE \n",
    "ypred=m*df$horsepower+b\n",
    "y=df$mpg\n",
    "res=(y-ypred)\n",
    "print(mean(res**2))\n",
    "print(mean(abs(res)))\n",
    "print(mean(res**2)**0.5)"
   ]
  },
  {
   "cell_type": "markdown",
   "metadata": {},
   "source": [
    "The cv.glm() function produces a list with several components. The two numbers in the delta vector contain the cross-validation results.\n",
    "\n",
    "The first number we see above is raw the LOOCV result, and the second number is a bias corrected version of it. \n",
    "\n",
    "The Bias correction is because the data set that we train on is slightly smaller than the one that we actually would like to get the error for, which is the full data set of size n.\n",
    "\n",
    "It has more of an effect for K-fold CV. (The adjustment is designed to compensate for the bias introduced by not using leave-one-out cross-validation.)\n",
    "\n",
    "On this data set, the two estimates are very similar to each other.\n",
    "\n",
    "This command will likely take a couple of minutes to run.\n",
    "\n",
    "Let's write a simple function to use formula(5.2)\n",
    "\n",
    "\n",
    "$$\\mathrm{CV}_{(n)}=\\frac{1}{n} \\sum_{i=1}^n\\left(\\frac{y_i-\\hat{y}_i}{1-h_i}\\right)^2 \\,\\,\\,\\,\\,\\,\\,\\,\\,\\,(5.2)$$"
   ]
  },
  {
   "cell_type": "code",
   "execution_count": 11,
   "metadata": {},
   "outputs": [
    {
     "data": {
      "text/html": [
       "24.2315135179292"
      ],
      "text/latex": [
       "24.2315135179292"
      ],
      "text/markdown": [
       "24.2315135179292"
      ],
      "text/plain": [
       "[1] 24.23151"
      ]
     },
     "metadata": {},
     "output_type": "display_data"
    }
   ],
   "source": [
    "loocv=function(fit){ #function loocv takes the fit as the argument\n",
    "  h =lm.influence(fit)$h #lm.influence is a post-processor for lm.fit\n",
    "  #will extract the element h from that which gives you the diagonal elements\n",
    "  #of the hat matrix =levarage => put that in a vector h\n",
    "  mean((residuals(fit)/(1-h))^2) #formula 5.2\n",
    "  }\n",
    "\n",
    "#Now lets try it\n",
    "\n",
    "loocv(glm.fit)"
   ]
  },
  {
   "cell_type": "markdown",
   "metadata": {},
   "source": [
    "This runs very quickly, and has the same as the result from the previous glm.fit, showing our function works.\n",
    "\n",
    "Now let's fit polynomials of different degrees(1-5). Because the data looks very non linear."
   ]
  },
  {
   "cell_type": "code",
   "execution_count": 12,
   "metadata": {},
   "outputs": [
    {
     "name": "stdout",
     "output_type": "stream",
     "text": [
      "[1] 24.23151 19.24821 19.33498 19.42443 19.03321\n"
     ]
    },
    {
     "data": {
      "image/png": "[encoded data removed]",
      "text/plain": [
       "plot without title"
      ]
     },
     "metadata": {
      "image/png": {
       "height": 420,
       "width": 420
      }
     },
     "output_type": "display_data"
    }
   ],
   "source": [
    "# This code computes the leave-one-out cross-validation errors for polynomial regression models with degrees ranging from 1 to 5 and then plots these errors against the degrees of polynomial. It iterates through each degree, fits a polynomial regression model, computes the leave-one-out cross-validation error using the loocv function, and stores the errors in the vector cv.error. Finally, it prints the errors and creates a plot to visualize how the errors vary with the degrees of polynomial.\n",
    "\n",
    "\n",
    "# Initialize a vector to store cross-validation errors for degrees 1 to 5\n",
    "cv.error = rep(0, 5)\n",
    "\n",
    "# Define degrees of polynomial from 1 to 5\n",
    "degree = 1:5\n",
    "\n",
    "# Loop through degrees of polynomial\n",
    "for (d in degree) {\n",
    "  # Fit a generalized linear model (GLM) using polynomial regression of degree 'd'\n",
    "  glm.fit = glm(mpg ~ poly(horsepower, d), data = Auto)\n",
    "  # Compute the leave-one-out cross-validation error and store it\n",
    "  cv.error[d] = loocv(glm.fit)  # a vector to collect errors\n",
    "}\n",
    "\n",
    "# Print the cross-validation errors\n",
    "print(cv.error)\n",
    "\n",
    "# Plot the cross-validation errors against the degrees of polynomial\n",
    "plot(degree, cv.error, type = 'o')  # plot the error against the degree\n",
    "\n",
    "\n",
    "\n",
    "\n",
    "\n"
   ]
  },
  {
   "cell_type": "markdown",
   "metadata": {},
   "source": [
    "Degree 1 does poorly. Degree 2 error jumps down from 24 down to just above 19. Higher degrees really don't make much difference.\n",
    "\n",
    "By looking at the graph we can conclude that a quadratic model will be a good fit.\n",
    "\n",
    "### (K=5)-Fold Cross-Validation"
   ]
  },
  {
   "cell_type": "code",
   "execution_count": 13,
   "metadata": {},
   "outputs": [
    {
     "name": "stdout",
     "output_type": "stream",
     "text": [
      "[1] 24.27207 19.26909 19.34805 19.29496 19.03198\n"
     ]
    },
    {
     "data": {
      "image/png": "[encoded data removed]",
      "text/plain": [
       "plot without title"
      ]
     },
     "metadata": {
      "image/png": {
       "height": 420,
       "width": 420
      }
     },
     "output_type": "display_data"
    }
   ],
   "source": [
    "# Set seed for reproducibility\n",
    "set.seed(17)\n",
    "\n",
    "# Initialize a vector to store cross-validation errors for degree 1 to 5\n",
    "cv.error.5 = rep(0, 5)\n",
    "\n",
    "# Loop through degrees of polynomial (1 to 5)\n",
    "for (d in degree) {\n",
    "  # Fit a generalized linear model (GLM) using polynomial regression\n",
    "  glm.fit = glm(mpg ~ poly(horsepower, d), data = Auto)\n",
    "  # Store the cross-validation error for each degree of polynomial\n",
    "  cv.error.5[d] = cv.glm(Auto, glm.fit, K = 10)$delta[1]  # K=10 is the number of folds.\n",
    "}\n",
    "\n",
    "# Print the cross-validation errors for degree 1 to 5\n",
    "print(cv.error.5)\n",
    "\n",
    "# Plot the cross-validation errors against degrees of polynomial for degree 1 to 10\n",
    "plot(degree, cv.error, type = 'o')\n",
    "# Add the cross-validation errors for degree 1 to 5 to the plot in red\n",
    "lines(degree, cv.error.5, type = \"o\", col = \"red\")\n"
   ]
  },
  {
   "cell_type": "markdown",
   "metadata": {},
   "source": [
    "It's not much different but more stable (less variation) than LOOCV.\n",
    "\n",
    "Notice that the computation time is much shorter than that of LOOCV.\n",
    "\n",
    "### Auto example\n",
    "\n",
    "(a). What is the best model? \n",
    "\n",
    "Best  model: $mpg = -120.14* horsepower + 44.09*(horsepower)^2$  \n",
    "\n",
    "\n",
    "(b) Compare the cross validation error rate for different splits."
   ]
  },
  {
   "cell_type": "code",
   "execution_count": 14,
   "metadata": {},
   "outputs": [
    {
     "data": {
      "text/plain": [
       "\n",
       "Call:\n",
       "glm(formula = mpg ~ poly(horsepower, 2), data = Auto)\n",
       "\n",
       "Coefficients:\n",
       "                      Estimate Std. Error t value Pr(>|t|)    \n",
       "(Intercept)            23.4459     0.2209  106.13   <2e-16 ***\n",
       "poly(horsepower, 2)1 -120.1377     4.3739  -27.47   <2e-16 ***\n",
       "poly(horsepower, 2)2   44.0895     4.3739   10.08   <2e-16 ***\n",
       "---\n",
       "Signif. codes:  0 '***' 0.001 '**' 0.01 '*' 0.05 '.' 0.1 ' ' 1\n",
       "\n",
       "(Dispersion parameter for gaussian family taken to be 19.13118)\n",
       "\n",
       "    Null deviance: 23819  on 391  degrees of freedom\n",
       "Residual deviance:  7442  on 389  degrees of freedom\n",
       "AIC: 2274.4\n",
       "\n",
       "Number of Fisher Scoring iterations: 2\n"
      ]
     },
     "metadata": {},
     "output_type": "display_data"
    },
    {
     "data": {
      "image/png": "[encoded data removed]",
      "text/plain": [
       "plot without title"
      ]
     },
     "metadata": {
      "image/png": {
       "height": 420,
       "width": 420
      }
     },
     "output_type": "display_data"
    }
   ],
   "source": [
    "# Initialize a matrix to store cross-validation errors\n",
    "cv.error = matrix(data = NA, nrow = 10, ncol = 10)\n",
    "\n",
    "# Loop through degrees of polynomial (1 to 10)\n",
    "for (j in 1:10) {\n",
    "  # Loop through iterations for 10-fold cross-validation\n",
    "  for (i in 1:10) {\n",
    "    # Fit a generalized linear model (GLM) using polynomial regression\n",
    "    glm.fit = glm(mpg ~ poly(horsepower, i), data = Auto)\n",
    "    # Store the cross-validation error in the matrix\n",
    "    cv.error[i, j] = cv.glm(Auto, glm.fit, K = 10)$delta[1]\n",
    "  }\n",
    "}\n",
    "\n",
    "# Define degrees of polynomial\n",
    "degree = 1:10\n",
    "\n",
    "# Plot the cross-validation errors against degrees of polynomial\n",
    "matplot(degree, cv.error, type = \"l\")\n",
    "\n",
    "# Fit the best model with degree 2 polynomial\n",
    "glm.fit = glm(mpg ~ poly(horsepower, 2), data = Auto)\n",
    "\n",
    "# Display summary of the best model\n",
    "summary(glm.fit)\n"
   ]
  },
  {
   "cell_type": "markdown",
   "metadata": {},
   "source": [
    "### Example\n",
    "\n",
    "Consider the built-in data set __cars__ . We wish to predict the braking distance __dist__ from __speed__. Use leave-one-out cross validation to find the best polynomial regression model. Repeat with 10-fold cross validation. Compare the two answers. \n",
    "\n",
    "__Solution.__\n",
    "\n",
    "First, use leave-one-out cross validation. We can use degrees 1 to 15 to fit polynomial models.\n",
    "\n",
    "Next Plot the results. It turns out that the delta values of very large if the degree of the polynomial is large., therefore it is better to plot the logarithms (done below).\n",
    "\n",
    "The model with minimal delta for leave-one-out cross validation is 2 (black circle).\n",
    "\n",
    "The model with minimal delta for 10-fold  cross validation is also 2 (red triangle). _This depends on the random seed with which the cross validation is done._ "
   ]
  },
  {
   "cell_type": "code",
   "execution_count": 15,
   "metadata": {},
   "outputs": [],
   "source": [
    "# GET DATA\n",
    "\n",
    "# Set seed for reproducibility\n",
    "set.seed(101)\n",
    "\n",
    "# Load the datasets library\n",
    "library(datasets)\n",
    "\n",
    "# Load the 'cars' dataset\n",
    "data(cars)\n",
    "\n",
    "# Create a data frame to store results with degrees ranging from 1 to 15\n",
    "results.41 <- data.frame(degree = 1:15, delta.loo = NA, delta.k10 = NA)\n"
   ]
  },
  {
   "cell_type": "code",
   "execution_count": 16,
   "metadata": {},
   "outputs": [
    {
     "name": "stdout",
     "output_type": "stream",
     "text": [
      "  speed dist\n",
      "1     4    2\n",
      "2     4   10\n",
      "3     7    4\n",
      "4     7   22\n",
      "5     8   16\n",
      "6     9   10\n",
      "[1] 50  2\n"
     ]
    }
   ],
   "source": [
    "# DATAFRAME FOR OUTPUTS\n",
    "print(head(cars))\n",
    "print(dim(cars))"
   ]
  },
  {
   "cell_type": "code",
   "execution_count": 17,
   "metadata": {},
   "outputs": [
    {
     "data": {
      "image/png": "[encoded data removed]",
      "text/plain": [
       "Plot with title \"Results of cross validation\""
      ]
     },
     "metadata": {
      "image/png": {
       "height": 420,
       "width": 420
      }
     },
     "output_type": "display_data"
    }
   ],
   "source": [
    "# Commenting the code\n",
    "\n",
    "# Loop through degrees of polynomial from 1 to 15\n",
    "for (j in 1:15) {\n",
    "  # Fit a generalized linear model (GLM) using polynomial regression\n",
    "  fit.41 = glm(dist ~ poly(speed, j), data = cars)\n",
    "  \n",
    "  # Perform leave-one-out cross-validation\n",
    "  fit.loo <- cv.glm(cars, fit.41, K = 50)  # Using 50-fold cross-validation\n",
    "  \n",
    "  # Perform 10-fold cross-validation\n",
    "  fit.k10 <- cv.glm(cars, fit.41, K = 10)   # Using 10-fold cross-validation\n",
    "  \n",
    "  # Store the delta values for each degree of polynomial\n",
    "  results.41$delta.loo[j] <- fit.loo$delta[1]  # Store leave-one-out delta\n",
    "  results.41$delta.k10[j] <- fit.k10$delta[1]  # Store 10-fold delta\n",
    "}\n",
    "\n",
    "# Plotting the results of cross-validation\n",
    "plot(log10(delta.loo) ~ degree, data = results.41, type = 'b',\n",
    "     main = \"Results of cross validation\")\n",
    "\n",
    "# Adding legend to the plot\n",
    "legend(x = \"topleft\", legend = c(\"leave-one-out\", \"10 fold\"), fill = 1:2)\n",
    "\n",
    "# Finding the degree of polynomial with the minimum delta for leave-one-out cross-validation\n",
    "n.1 <- which.min(results.41$delta.loo)\n",
    "points(n.1, log10(results.41$delta.loo[n.1]), lwd = 3, col = 1, cex = 2)\n",
    "\n",
    "# Finding the degree of polynomial with the minimum delta for 10-fold cross-validation\n",
    "n.2 <- which.min(results.41$delta.k10)\n",
    "points(n.2, log10(results.41$delta.k10[n.2]), lwd = 3, pch = 2, col = 2)\n",
    "\n",
    "# Adding lines to the plot for 10-fold cross-validation\n",
    "lines(log10(delta.k10) ~ degree, data = results.41, type = 'b', col = 2)\n"
   ]
  },
  {
   "cell_type": "markdown",
   "metadata": {},
   "source": [
    "## Part-2: Lab Assignment\n",
    "\n",
    "### Cross Validation Approaches\n",
    "\n",
    "We'll consider a regression problem with the Carseats dataset.\n",
    "\n",
    "**Lab-2.1.1** Fit a linear model to predict Sales from all other attributes. Looking at the model summary, what is the residual error?"
   ]
  },
  {
   "cell_type": "code",
   "execution_count": 18,
   "metadata": {},
   "outputs": [
    {
     "data": {
      "text/plain": [
       "\n",
       "Call:\n",
       "lm(formula = Sales ~ ., data = Carseats)\n",
       "\n",
       "Residuals:\n",
       "    Min      1Q  Median      3Q     Max \n",
       "-2.8692 -0.6908  0.0211  0.6636  3.4115 \n",
       "\n",
       "Coefficients:\n",
       "                  Estimate Std. Error t value Pr(>|t|)    \n",
       "(Intercept)      5.6606231  0.6034487   9.380  < 2e-16 ***\n",
       "CompPrice        0.0928153  0.0041477  22.378  < 2e-16 ***\n",
       "Income           0.0158028  0.0018451   8.565 2.58e-16 ***\n",
       "Advertising      0.1230951  0.0111237  11.066  < 2e-16 ***\n",
       "Population       0.0002079  0.0003705   0.561    0.575    \n",
       "Price           -0.0953579  0.0026711 -35.700  < 2e-16 ***\n",
       "ShelveLocGood    4.8501827  0.1531100  31.678  < 2e-16 ***\n",
       "ShelveLocMedium  1.9567148  0.1261056  15.516  < 2e-16 ***\n",
       "Age             -0.0460452  0.0031817 -14.472  < 2e-16 ***\n",
       "Education       -0.0211018  0.0197205  -1.070    0.285    \n",
       "UrbanYes         0.1228864  0.1129761   1.088    0.277    \n",
       "USYes           -0.1840928  0.1498423  -1.229    0.220    \n",
       "---\n",
       "Signif. codes:  0 '***' 0.001 '**' 0.01 '*' 0.05 '.' 0.1 ' ' 1\n",
       "\n",
       "Residual standard error: 1.019 on 388 degrees of freedom\n",
       "Multiple R-squared:  0.8734,\tAdjusted R-squared:  0.8698 \n",
       "F-statistic: 243.4 on 11 and 388 DF,  p-value: < 2.2e-16\n"
      ]
     },
     "metadata": {},
     "output_type": "display_data"
    }
   ],
   "source": [
    "# INSERT CODE HERE\n",
    "\n",
    "# Load library\n",
    "library(ISLR)\n",
    "\n",
    "# Load the dataset\n",
    "data(Carseats)\n",
    "\n",
    "# Fit a linear model to predict Sales using all other variables\n",
    "lm.fit <- lm(Sales ~ ., data = Carseats)\n",
    "\n",
    "# Display the model summary\n",
    "summary(lm.fit)\n"
   ]
  },
  {
   "cell_type": "markdown",
   "metadata": {},
   "source": [
    "Residual standard error: 1.019 on 388 degrees of freedom"
   ]
  },
  {
   "cell_type": "markdown",
   "metadata": {},
   "source": [
    "**Lab-2.1.2** Fit another linear model, but now do not include the predictors Population, Education, Urban, and US. What is the residual error? "
   ]
  },
  {
   "cell_type": "code",
   "execution_count": 19,
   "metadata": {},
   "outputs": [
    {
     "data": {
      "text/plain": [
       "\n",
       "Call:\n",
       "lm(formula = Sales ~ . - Population - Education - Urban - US, \n",
       "    data = Carseats)\n",
       "\n",
       "Residuals:\n",
       "    Min      1Q  Median      3Q     Max \n",
       "-2.7728 -0.6954  0.0282  0.6732  3.3292 \n",
       "\n",
       "Coefficients:\n",
       "                 Estimate Std. Error t value Pr(>|t|)    \n",
       "(Intercept)      5.475226   0.505005   10.84   <2e-16 ***\n",
       "CompPrice        0.092571   0.004123   22.45   <2e-16 ***\n",
       "Income           0.015785   0.001838    8.59   <2e-16 ***\n",
       "Advertising      0.115903   0.007724   15.01   <2e-16 ***\n",
       "Price           -0.095319   0.002670  -35.70   <2e-16 ***\n",
       "ShelveLocGood    4.835675   0.152499   31.71   <2e-16 ***\n",
       "ShelveLocMedium  1.951993   0.125375   15.57   <2e-16 ***\n",
       "Age             -0.046128   0.003177  -14.52   <2e-16 ***\n",
       "---\n",
       "Signif. codes:  0 '***' 0.001 '**' 0.01 '*' 0.05 '.' 0.1 ' ' 1\n",
       "\n",
       "Residual standard error: 1.019 on 392 degrees of freedom\n",
       "Multiple R-squared:  0.872,\tAdjusted R-squared:  0.8697 \n",
       "F-statistic: 381.4 on 7 and 392 DF,  p-value: < 2.2e-16\n"
      ]
     },
     "metadata": {},
     "output_type": "display_data"
    }
   ],
   "source": [
    "# INSERT CODE HERE\n",
    "\n",
    "# Load library\n",
    "library(ISLR)\n",
    "\n",
    "# Load the dataset\n",
    "data(Carseats)\n",
    "\n",
    "# Build a linear model, excluding Population, Education, Urban, and US variables\n",
    "lm.fit2 <- lm(Sales ~ . - Population - Education - Urban - US, data = Carseats)\n",
    "\n",
    "# Display model summary\n",
    "summary(lm.fit2)\n"
   ]
  },
  {
   "cell_type": "markdown",
   "metadata": {},
   "source": [
    "Residual standard error: 1.019 on 392 degrees of freedom"
   ]
  },
  {
   "cell_type": "markdown",
   "metadata": {},
   "source": [
    "**Lab-2.1.3**  How do determine which model is better? Create a train/test split of the data and retrain your model. \n",
    "\n",
    "Use the fitted model to make predictions on the test set, and check the model performance by calculating the root mean squared error and R squared values. \n",
    "\n",
    "Conduct this for both the model from part (1) and part (2)).\n",
    "\n",
    "Discuss in text which model is the best and why?"
   ]
  },
  {
   "cell_type": "code",
   "execution_count": 20,
   "metadata": {},
   "outputs": [
    {
     "name": "stderr",
     "output_type": "stream",
     "text": [
      "Installing package into 'C:/Users/USER/AppData/Local/R/win-library/4.4'\n",
      "(as 'lib' is unspecified)\n",
      "\n"
     ]
    },
    {
     "name": "stdout",
     "output_type": "stream",
     "text": [
      "package 'caret' successfully unpacked and MD5 sums checked\n"
     ]
    },
    {
     "name": "stderr",
     "output_type": "stream",
     "text": [
      "Warning message:\n",
      "\"cannot remove prior installation of package 'caret'\"\n",
      "Warning message in file.copy(savedcopy, lib, recursive = TRUE):\n",
      "\"problem copying C:\\Users\\USER\\AppData\\Local\\R\\win-library\\4.4\\00LOCK\\caret\\libs\\x64\\caret.dll to C:\\Users\\USER\\AppData\\Local\\R\\win-library\\4.4\\caret\\libs\\x64\\caret.dll: Permission denied\"\n",
      "Warning message:\n",
      "\"restored 'caret'\"\n"
     ]
    },
    {
     "name": "stdout",
     "output_type": "stream",
     "text": [
      "\n",
      "The downloaded binary packages are in\n",
      "\tC:\\Users\\USER\\AppData\\Local\\Temp\\RtmpGYA0u1\\downloaded_packages\n"
     ]
    }
   ],
   "source": [
    "install.packages(\"caret\")"
   ]
  },
  {
   "cell_type": "code",
   "execution_count": 21,
   "metadata": {},
   "outputs": [
    {
     "name": "stderr",
     "output_type": "stream",
     "text": [
      "Loading required package: ggplot2\n",
      "\n",
      "Loading required package: lattice\n",
      "\n",
      "\n",
      "Attaching package: 'lattice'\n",
      "\n",
      "\n",
      "The following object is masked from 'package:boot':\n",
      "\n",
      "    melanoma\n",
      "\n",
      "\n"
     ]
    },
    {
     "data": {
      "text/html": [
       "<table class=\"dataframe\">\n",
       "<caption>A data.frame: 6 × 11</caption>\n",
       "<thead>\n",
       "\t<tr><th></th><th scope=col>Sales</th><th scope=col>CompPrice</th><th scope=col>Income</th><th scope=col>Advertising</th><th scope=col>Population</th><th scope=col>Price</th><th scope=col>ShelveLoc</th><th scope=col>Age</th><th scope=col>Education</th><th scope=col>Urban</th><th scope=col>US</th></tr>\n",
       "\t<tr><th></th><th scope=col>&lt;dbl&gt;</th><th scope=col>&lt;dbl&gt;</th><th scope=col>&lt;dbl&gt;</th><th scope=col>&lt;dbl&gt;</th><th scope=col>&lt;dbl&gt;</th><th scope=col>&lt;dbl&gt;</th><th scope=col>&lt;fct&gt;</th><th scope=col>&lt;dbl&gt;</th><th scope=col>&lt;dbl&gt;</th><th scope=col>&lt;fct&gt;</th><th scope=col>&lt;fct&gt;</th></tr>\n",
       "</thead>\n",
       "<tbody>\n",
       "\t<tr><th scope=row>1</th><td> 9.50</td><td>138</td><td> 73</td><td>11</td><td>276</td><td>120</td><td>Bad   </td><td>42</td><td>17</td><td>Yes</td><td>Yes</td></tr>\n",
       "\t<tr><th scope=row>2</th><td>11.22</td><td>111</td><td> 48</td><td>16</td><td>260</td><td> 83</td><td>Good  </td><td>65</td><td>10</td><td>Yes</td><td>Yes</td></tr>\n",
       "\t<tr><th scope=row>4</th><td> 7.40</td><td>117</td><td>100</td><td> 4</td><td>466</td><td> 97</td><td>Medium</td><td>55</td><td>14</td><td>Yes</td><td>Yes</td></tr>\n",
       "\t<tr><th scope=row>5</th><td> 4.15</td><td>141</td><td> 64</td><td> 3</td><td>340</td><td>128</td><td>Bad   </td><td>38</td><td>13</td><td>Yes</td><td>No </td></tr>\n",
       "\t<tr><th scope=row>6</th><td>10.81</td><td>124</td><td>113</td><td>13</td><td>501</td><td> 72</td><td>Bad   </td><td>78</td><td>16</td><td>No </td><td>Yes</td></tr>\n",
       "\t<tr><th scope=row>7</th><td> 6.63</td><td>115</td><td>105</td><td> 0</td><td> 45</td><td>108</td><td>Medium</td><td>71</td><td>15</td><td>Yes</td><td>No </td></tr>\n",
       "</tbody>\n",
       "</table>\n"
      ],
      "text/latex": [
       "A data.frame: 6 × 11\n",
       "\\begin{tabular}{r|lllllllllll}\n",
       "  & Sales & CompPrice & Income & Advertising & Population & Price & ShelveLoc & Age & Education & Urban & US\\\\\n",
       "  & <dbl> & <dbl> & <dbl> & <dbl> & <dbl> & <dbl> & <fct> & <dbl> & <dbl> & <fct> & <fct>\\\\\n",
       "\\hline\n",
       "\t1 &  9.50 & 138 &  73 & 11 & 276 & 120 & Bad    & 42 & 17 & Yes & Yes\\\\\n",
       "\t2 & 11.22 & 111 &  48 & 16 & 260 &  83 & Good   & 65 & 10 & Yes & Yes\\\\\n",
       "\t4 &  7.40 & 117 & 100 &  4 & 466 &  97 & Medium & 55 & 14 & Yes & Yes\\\\\n",
       "\t5 &  4.15 & 141 &  64 &  3 & 340 & 128 & Bad    & 38 & 13 & Yes & No \\\\\n",
       "\t6 & 10.81 & 124 & 113 & 13 & 501 &  72 & Bad    & 78 & 16 & No  & Yes\\\\\n",
       "\t7 &  6.63 & 115 & 105 &  0 &  45 & 108 & Medium & 71 & 15 & Yes & No \\\\\n",
       "\\end{tabular}\n"
      ],
      "text/markdown": [
       "\n",
       "A data.frame: 6 × 11\n",
       "\n",
       "| <!--/--> | Sales &lt;dbl&gt; | CompPrice &lt;dbl&gt; | Income &lt;dbl&gt; | Advertising &lt;dbl&gt; | Population &lt;dbl&gt; | Price &lt;dbl&gt; | ShelveLoc &lt;fct&gt; | Age &lt;dbl&gt; | Education &lt;dbl&gt; | Urban &lt;fct&gt; | US &lt;fct&gt; |\n",
       "|---|---|---|---|---|---|---|---|---|---|---|---|\n",
       "| 1 |  9.50 | 138 |  73 | 11 | 276 | 120 | Bad    | 42 | 17 | Yes | Yes |\n",
       "| 2 | 11.22 | 111 |  48 | 16 | 260 |  83 | Good   | 65 | 10 | Yes | Yes |\n",
       "| 4 |  7.40 | 117 | 100 |  4 | 466 |  97 | Medium | 55 | 14 | Yes | Yes |\n",
       "| 5 |  4.15 | 141 |  64 |  3 | 340 | 128 | Bad    | 38 | 13 | Yes | No  |\n",
       "| 6 | 10.81 | 124 | 113 | 13 | 501 |  72 | Bad    | 78 | 16 | No  | Yes |\n",
       "| 7 |  6.63 | 115 | 105 |  0 |  45 | 108 | Medium | 71 | 15 | Yes | No  |\n",
       "\n"
      ],
      "text/plain": [
       "  Sales CompPrice Income Advertising Population Price ShelveLoc Age Education\n",
       "1  9.50 138        73    11          276        120   Bad       42  17       \n",
       "2 11.22 111        48    16          260         83   Good      65  10       \n",
       "4  7.40 117       100     4          466         97   Medium    55  14       \n",
       "5  4.15 141        64     3          340        128   Bad       38  13       \n",
       "6 10.81 124       113    13          501         72   Bad       78  16       \n",
       "7  6.63 115       105     0           45        108   Medium    71  15       \n",
       "  Urban US \n",
       "1 Yes   Yes\n",
       "2 Yes   Yes\n",
       "4 Yes   Yes\n",
       "5 Yes   No \n",
       "6 No    Yes\n",
       "7 Yes   No "
      ]
     },
     "metadata": {},
     "output_type": "display_data"
    },
    {
     "data": {
      "text/html": [
       "<table class=\"dataframe\">\n",
       "<caption>A data.frame: 6 × 11</caption>\n",
       "<thead>\n",
       "\t<tr><th></th><th scope=col>Sales</th><th scope=col>CompPrice</th><th scope=col>Income</th><th scope=col>Advertising</th><th scope=col>Population</th><th scope=col>Price</th><th scope=col>ShelveLoc</th><th scope=col>Age</th><th scope=col>Education</th><th scope=col>Urban</th><th scope=col>US</th></tr>\n",
       "\t<tr><th></th><th scope=col>&lt;dbl&gt;</th><th scope=col>&lt;dbl&gt;</th><th scope=col>&lt;dbl&gt;</th><th scope=col>&lt;dbl&gt;</th><th scope=col>&lt;dbl&gt;</th><th scope=col>&lt;dbl&gt;</th><th scope=col>&lt;fct&gt;</th><th scope=col>&lt;dbl&gt;</th><th scope=col>&lt;dbl&gt;</th><th scope=col>&lt;fct&gt;</th><th scope=col>&lt;fct&gt;</th></tr>\n",
       "</thead>\n",
       "<tbody>\n",
       "\t<tr><th scope=row>3</th><td>10.06</td><td>113</td><td> 35</td><td>10</td><td>269</td><td> 80</td><td>Medium</td><td>59</td><td>12</td><td>Yes</td><td>Yes</td></tr>\n",
       "\t<tr><th scope=row>19</th><td>13.91</td><td>110</td><td>110</td><td> 0</td><td>408</td><td> 68</td><td>Good  </td><td>46</td><td>17</td><td>No </td><td>Yes</td></tr>\n",
       "\t<tr><th scope=row>20</th><td> 8.73</td><td>129</td><td> 76</td><td>16</td><td> 58</td><td>121</td><td>Medium</td><td>69</td><td>12</td><td>Yes</td><td>Yes</td></tr>\n",
       "\t<tr><th scope=row>22</th><td>12.13</td><td>134</td><td> 29</td><td>12</td><td>239</td><td>109</td><td>Good  </td><td>62</td><td>18</td><td>No </td><td>Yes</td></tr>\n",
       "\t<tr><th scope=row>29</th><td> 2.99</td><td>103</td><td> 74</td><td> 0</td><td>359</td><td> 97</td><td>Bad   </td><td>55</td><td>11</td><td>Yes</td><td>Yes</td></tr>\n",
       "\t<tr><th scope=row>30</th><td> 7.81</td><td>104</td><td> 99</td><td>15</td><td>226</td><td>102</td><td>Bad   </td><td>58</td><td>17</td><td>Yes</td><td>Yes</td></tr>\n",
       "</tbody>\n",
       "</table>\n"
      ],
      "text/latex": [
       "A data.frame: 6 × 11\n",
       "\\begin{tabular}{r|lllllllllll}\n",
       "  & Sales & CompPrice & Income & Advertising & Population & Price & ShelveLoc & Age & Education & Urban & US\\\\\n",
       "  & <dbl> & <dbl> & <dbl> & <dbl> & <dbl> & <dbl> & <fct> & <dbl> & <dbl> & <fct> & <fct>\\\\\n",
       "\\hline\n",
       "\t3 & 10.06 & 113 &  35 & 10 & 269 &  80 & Medium & 59 & 12 & Yes & Yes\\\\\n",
       "\t19 & 13.91 & 110 & 110 &  0 & 408 &  68 & Good   & 46 & 17 & No  & Yes\\\\\n",
       "\t20 &  8.73 & 129 &  76 & 16 &  58 & 121 & Medium & 69 & 12 & Yes & Yes\\\\\n",
       "\t22 & 12.13 & 134 &  29 & 12 & 239 & 109 & Good   & 62 & 18 & No  & Yes\\\\\n",
       "\t29 &  2.99 & 103 &  74 &  0 & 359 &  97 & Bad    & 55 & 11 & Yes & Yes\\\\\n",
       "\t30 &  7.81 & 104 &  99 & 15 & 226 & 102 & Bad    & 58 & 17 & Yes & Yes\\\\\n",
       "\\end{tabular}\n"
      ],
      "text/markdown": [
       "\n",
       "A data.frame: 6 × 11\n",
       "\n",
       "| <!--/--> | Sales &lt;dbl&gt; | CompPrice &lt;dbl&gt; | Income &lt;dbl&gt; | Advertising &lt;dbl&gt; | Population &lt;dbl&gt; | Price &lt;dbl&gt; | ShelveLoc &lt;fct&gt; | Age &lt;dbl&gt; | Education &lt;dbl&gt; | Urban &lt;fct&gt; | US &lt;fct&gt; |\n",
       "|---|---|---|---|---|---|---|---|---|---|---|---|\n",
       "| 3 | 10.06 | 113 |  35 | 10 | 269 |  80 | Medium | 59 | 12 | Yes | Yes |\n",
       "| 19 | 13.91 | 110 | 110 |  0 | 408 |  68 | Good   | 46 | 17 | No  | Yes |\n",
       "| 20 |  8.73 | 129 |  76 | 16 |  58 | 121 | Medium | 69 | 12 | Yes | Yes |\n",
       "| 22 | 12.13 | 134 |  29 | 12 | 239 | 109 | Good   | 62 | 18 | No  | Yes |\n",
       "| 29 |  2.99 | 103 |  74 |  0 | 359 |  97 | Bad    | 55 | 11 | Yes | Yes |\n",
       "| 30 |  7.81 | 104 |  99 | 15 | 226 | 102 | Bad    | 58 | 17 | Yes | Yes |\n",
       "\n"
      ],
      "text/plain": [
       "   Sales CompPrice Income Advertising Population Price ShelveLoc Age Education\n",
       "3  10.06 113        35    10          269         80   Medium    59  12       \n",
       "19 13.91 110       110     0          408         68   Good      46  17       \n",
       "20  8.73 129        76    16           58        121   Medium    69  12       \n",
       "22 12.13 134        29    12          239        109   Good      62  18       \n",
       "29  2.99 103        74     0          359         97   Bad       55  11       \n",
       "30  7.81 104        99    15          226        102   Bad       58  17       \n",
       "   Urban US \n",
       "3  Yes   Yes\n",
       "19 No    Yes\n",
       "20 Yes   Yes\n",
       "22 No    Yes\n",
       "29 Yes   Yes\n",
       "30 Yes   Yes"
      ]
     },
     "metadata": {},
     "output_type": "display_data"
    }
   ],
   "source": [
    "# INSERT CODE HERE\n",
    "\n",
    "# Load libraries\n",
    "library(ISLR)   \n",
    "library(caret)  \n",
    "\n",
    "# Load the dataset\n",
    "data(Carseats)\n",
    "\n",
    "# Set seed for reproducibility\n",
    "set.seed(100)\n",
    "\n",
    "# Split data: 80% training, 20% testing\n",
    "trainIndex <- createDataPartition(Carseats$Sales, p = 0.8, list = FALSE)\n",
    "trainData <- Carseats[trainIndex, ]\n",
    "testData <- Carseats[-trainIndex, ]\n",
    "\n",
    "# Display the first few rows of training and testing sets\n",
    "head(trainData)\n",
    "head(testData)"
   ]
  },
  {
   "cell_type": "markdown",
   "metadata": {},
   "source": [
    "for part (1)"
   ]
  },
  {
   "cell_type": "code",
   "execution_count": 22,
   "metadata": {},
   "outputs": [
    {
     "data": {
      "text/plain": [
       "\n",
       "Call:\n",
       "lm(formula = Sales ~ ., data = trainData)\n",
       "\n",
       "Residuals:\n",
       "     Min       1Q   Median       3Q      Max \n",
       "-2.93186 -0.69759  0.00783  0.61702  2.57384 \n",
       "\n",
       "Coefficients:\n",
       "                  Estimate Std. Error t value Pr(>|t|)    \n",
       "(Intercept)      5.2304427  0.6724698   7.778 1.11e-13 ***\n",
       "CompPrice        0.0919066  0.0044876  20.480  < 2e-16 ***\n",
       "Income           0.0160017  0.0020213   7.916 4.42e-14 ***\n",
       "Advertising      0.1278976  0.0120683  10.598  < 2e-16 ***\n",
       "Population       0.0001606  0.0004008   0.401    0.689    \n",
       "Price           -0.0938515  0.0028809 -32.577  < 2e-16 ***\n",
       "ShelveLocGood    4.9533542  0.1722889  28.750  < 2e-16 ***\n",
       "ShelveLocMedium  1.9808147  0.1428573  13.866  < 2e-16 ***\n",
       "Age             -0.0431564  0.0034936 -12.353  < 2e-16 ***\n",
       "Education       -0.0110322  0.0211419  -0.522    0.602    \n",
       "UrbanYes         0.1466054  0.1231964   1.190    0.235    \n",
       "USYes           -0.2326504  0.1664616  -1.398    0.163    \n",
       "---\n",
       "Signif. codes:  0 '***' 0.001 '**' 0.01 '*' 0.05 '.' 0.1 ' ' 1\n",
       "\n",
       "Residual standard error: 0.9949 on 309 degrees of freedom\n",
       "Multiple R-squared:  0.8785,\tAdjusted R-squared:  0.8741 \n",
       "F-statistic:   203 on 11 and 309 DF,  p-value: < 2.2e-16\n"
      ]
     },
     "metadata": {},
     "output_type": "display_data"
    }
   ],
   "source": [
    "# INSERT CODE HERE\n",
    "\n",
    "# Train a linear model using all available predictors\n",
    "lm.fit1 <- lm(Sales ~ ., data = trainData)\n",
    "\n",
    "# Display model summary\n",
    "summary(lm.fit1)\n"
   ]
  },
  {
   "cell_type": "code",
   "execution_count": 23,
   "metadata": {},
   "outputs": [
    {
     "data": {
      "text/html": [
       "<style>\n",
       ".dl-inline {width: auto; margin:0; padding: 0}\n",
       ".dl-inline>dt, .dl-inline>dd {float: none; width: auto; display: inline-block}\n",
       ".dl-inline>dt::after {content: \":\\0020\"; padding-right: .5ex}\n",
       ".dl-inline>dt:not(:first-of-type) {padding-left: .5ex}\n",
       "</style><dl class=dl-inline><dt>3</dt><dd>9.20617026578138</dd><dt>19</dt><dd>13.331959626862</dd><dt>20</dt><dd>7.78675997153838</dd><dt>22</dt><dd>11.1997516536177</dd><dt>29</dt><dd>4.25402111339773</dd><dt>30</dt><dd>5.97815002750801</dd></dl>\n"
      ],
      "text/latex": [
       "\\begin{description*}\n",
       "\\item[3] 9.20617026578138\n",
       "\\item[19] 13.331959626862\n",
       "\\item[20] 7.78675997153838\n",
       "\\item[22] 11.1997516536177\n",
       "\\item[29] 4.25402111339773\n",
       "\\item[30] 5.97815002750801\n",
       "\\end{description*}\n"
      ],
      "text/markdown": [
       "3\n",
       ":   9.2061702657813819\n",
       ":   13.33195962686220\n",
       ":   7.7867599715383822\n",
       ":   11.199751653617729\n",
       ":   4.2540211133977330\n",
       ":   5.97815002750801\n",
       "\n"
      ],
      "text/plain": [
       "        3        19        20        22        29        30 \n",
       " 9.206170 13.331960  7.786760 11.199752  4.254021  5.978150 "
      ]
     },
     "metadata": {},
     "output_type": "display_data"
    }
   ],
   "source": [
    "# INSERT CODE HERE\n",
    "\n",
    "# Use the trained model to predict on test data\n",
    "predictions1 <- predict(lm.fit1, newdata = testData)\n",
    "\n",
    "# Display first few predictions\n",
    "head(predictions1)\n"
   ]
  },
  {
   "cell_type": "code",
   "execution_count": 24,
   "metadata": {},
   "outputs": [
    {
     "name": "stderr",
     "output_type": "stream",
     "text": [
      "Installing package into 'C:/Users/USER/AppData/Local/R/win-library/4.4'\n",
      "(as 'lib' is unspecified)\n",
      "\n"
     ]
    },
    {
     "name": "stdout",
     "output_type": "stream",
     "text": [
      "package 'Metrics' successfully unpacked and MD5 sums checked\n",
      "\n",
      "The downloaded binary packages are in\n",
      "\tC:\\Users\\USER\\AppData\\Local\\Temp\\RtmpGYA0u1\\downloaded_packages\n"
     ]
    }
   ],
   "source": [
    "install.packages(\"Metrics\")"
   ]
  },
  {
   "cell_type": "code",
   "execution_count": 25,
   "metadata": {},
   "outputs": [
    {
     "name": "stderr",
     "output_type": "stream",
     "text": [
      "\n",
      "Attaching package: 'Metrics'\n",
      "\n",
      "\n",
      "The following objects are masked from 'package:caret':\n",
      "\n",
      "    precision, recall\n",
      "\n",
      "\n"
     ]
    },
    {
     "name": "stdout",
     "output_type": "stream",
     "text": [
      "RMSE for Model 1: 1.121918 \n",
      "R-squared for Model 1: 0.8505295 \n"
     ]
    }
   ],
   "source": [
    "# INSERT CODE HERE\n",
    "\n",
    "# Load necessary library for R-squared\n",
    "library(Metrics)\n",
    "\n",
    "# Compute RMSE\n",
    "rmse1 <- sqrt(mean((testData$Sales - predictions1)^2))\n",
    "\n",
    "# Compute R-squared\n",
    "rsq1 <- 1 - sum((testData$Sales - predictions1)^2) / sum((testData$Sales - mean(testData$Sales))^2)\n",
    "\n",
    "# Print results\n",
    "cat(\"RMSE for Model 1:\", rmse1, \"\\n\")\n",
    "cat(\"R-squared for Model 1:\", rsq1, \"\\n\")\n"
   ]
  },
  {
   "cell_type": "markdown",
   "metadata": {},
   "source": [
    "for part (2)"
   ]
  },
  {
   "cell_type": "code",
   "execution_count": 26,
   "metadata": {},
   "outputs": [
    {
     "data": {
      "text/plain": [
       "\n",
       "Call:\n",
       "lm(formula = Sales ~ . - Population - Education - Urban - US, \n",
       "    data = trainData)\n",
       "\n",
       "Residuals:\n",
       "     Min       1Q   Median       3Q      Max \n",
       "-2.79952 -0.67475  0.02054  0.66942  2.57944 \n",
       "\n",
       "Coefficients:\n",
       "                 Estimate Std. Error t value Pr(>|t|)    \n",
       "(Intercept)      5.148592   0.560680   9.183  < 2e-16 ***\n",
       "CompPrice        0.091998   0.004465  20.604  < 2e-16 ***\n",
       "Income           0.015953   0.002010   7.938 3.72e-14 ***\n",
       "Advertising      0.117890   0.008305  14.196  < 2e-16 ***\n",
       "Price           -0.094021   0.002872 -32.742  < 2e-16 ***\n",
       "ShelveLocGood    4.959244   0.171801  28.866  < 2e-16 ***\n",
       "ShelveLocMedium  1.992622   0.141512  14.081  < 2e-16 ***\n",
       "Age             -0.043214   0.003467 -12.463  < 2e-16 ***\n",
       "---\n",
       "Signif. codes:  0 '***' 0.001 '**' 0.01 '*' 0.05 '.' 0.1 ' ' 1\n",
       "\n",
       "Residual standard error: 0.995 on 313 degrees of freedom\n",
       "Multiple R-squared:  0.8769,\tAdjusted R-squared:  0.8741 \n",
       "F-statistic: 318.4 on 7 and 313 DF,  p-value: < 2.2e-16\n"
      ]
     },
     "metadata": {},
     "output_type": "display_data"
    }
   ],
   "source": [
    "# INSERT CODE HERE\n",
    "\n",
    "# Train a linear model excluding Population, Education, Urban, and US\n",
    "lm.fit2 <- lm(Sales ~ . - Population - Education - Urban - US, data = trainData)\n",
    "\n",
    "# Display model summary\n",
    "summary(lm.fit2)"
   ]
  },
  {
   "cell_type": "code",
   "execution_count": 27,
   "metadata": {},
   "outputs": [
    {
     "data": {
      "text/html": [
       "<style>\n",
       ".dl-inline {width: auto; margin:0; padding: 0}\n",
       ".dl-inline>dt, .dl-inline>dd {float: none; width: auto; display: inline-block}\n",
       ".dl-inline>dt::after {content: \":\\0020\"; padding-right: .5ex}\n",
       ".dl-inline>dt:not(:first-of-type) {padding-left: .5ex}\n",
       "</style><dl class=dl-inline><dt>3</dt><dd>9.20291156329031</dd><dt>19</dt><dd>13.6011484822422</dd><dt>20</dt><dd>7.74928064412716</dd><dt>22</dt><dd>11.3852874767091</dd><dt>29</dt><dd>4.30806917138948</dd><dt>30</dt><dd>5.96749935201644</dd></dl>\n"
      ],
      "text/latex": [
       "\\begin{description*}\n",
       "\\item[3] 9.20291156329031\n",
       "\\item[19] 13.6011484822422\n",
       "\\item[20] 7.74928064412716\n",
       "\\item[22] 11.3852874767091\n",
       "\\item[29] 4.30806917138948\n",
       "\\item[30] 5.96749935201644\n",
       "\\end{description*}\n"
      ],
      "text/markdown": [
       "3\n",
       ":   9.2029115632903119\n",
       ":   13.601148482242220\n",
       ":   7.7492806441271622\n",
       ":   11.385287476709129\n",
       ":   4.3080691713894830\n",
       ":   5.96749935201644\n",
       "\n"
      ],
      "text/plain": [
       "        3        19        20        22        29        30 \n",
       " 9.202912 13.601148  7.749281 11.385287  4.308069  5.967499 "
      ]
     },
     "metadata": {},
     "output_type": "display_data"
    }
   ],
   "source": [
    "# INSERT CODE HERE\n",
    "\n",
    "# Use the trained model to predict on test data\n",
    "predictions2 <- predict(lm.fit2, newdata = testData)\n",
    "\n",
    "# Display first few predictions\n",
    "head(predictions2)\n"
   ]
  },
  {
   "cell_type": "code",
   "execution_count": 28,
   "metadata": {},
   "outputs": [
    {
     "name": "stdout",
     "output_type": "stream",
     "text": [
      "RMSE for Model 2: 1.122955 \n",
      "R-squared for Model 2: 0.850253 \n"
     ]
    }
   ],
   "source": [
    "# INSERT CODE HERE\n",
    "\n",
    "# Load library for R-squared\n",
    "library(Metrics)\n",
    "\n",
    "# Compute RMSE\n",
    "rmse2 <- sqrt(mean((testData$Sales - predictions2)^2))\n",
    "\n",
    "# Compute R-squared\n",
    "rsq2 <- 1 - sum((testData$Sales - predictions2)^2) / sum((testData$Sales - mean(testData$Sales))^2)\n",
    "\n",
    "# Print results\n",
    "cat(\"RMSE for Model 2:\", rmse2, \"\\n\")\n",
    "cat(\"R-squared for Model 2:\", rsq2, \"\\n\")\n"
   ]
  },
  {
   "cell_type": "markdown",
   "metadata": {},
   "source": [
    "**Lab-2.1.4**  Use the cv.glm() function from the 'boot' library to conduct a cross validation analysis. Run 5-fold, 10-fold, and Leave One Out cross validation for part 1 and 2. Which model has a lower error?"
   ]
  },
  {
   "cell_type": "code",
   "execution_count": 29,
   "metadata": {},
   "outputs": [
    {
     "name": "stdout",
     "output_type": "stream",
     "text": [
      "LOOCV Error: 3.581084 \n",
      "5-Fold CV Error: 3.543245 \n",
      "10-Fold CV Error: 3.540806 \n"
     ]
    }
   ],
   "source": [
    "# INSERT CODE HERE\n",
    "\n",
    "# Load boot library\n",
    "library(boot)\n",
    "\n",
    "Carseats$Urban <- as.numeric(Carseats$Urban)  # Yes = 1, No = 2\n",
    "Carseats$US <- as.numeric(Carseats$US)        # Yes = 1, No = 2\n",
    "Carseats$ShelveLoc <- as.numeric(Carseats$ShelveLoc)  # Bad = 1, Medium = 2, Good = 3\n",
    "\n",
    "lm.fit1 <- glm(Sales ~ ., data = Carseats, family = gaussian)\n",
    "\n",
    "# LOOCV\n",
    "cv.loocv_1 <- cv.glm(Carseats, lm.fit1)\n",
    "\n",
    "# 5-Fold CV\n",
    "cv.5fold_1 <- cv.glm(Carseats, lm.fit1, K = 5)\n",
    "\n",
    "# 10-Fold CV\n",
    "cv.10fold_1 <- cv.glm(Carseats, lm.fit1, K = 10)\n",
    "\n",
    "# Print the errors\n",
    "cat(\"LOOCV Error:\", cv.loocv_1$delta[1], \"\\n\")\n",
    "cat(\"5-Fold CV Error:\", cv.5fold_1$delta[1], \"\\n\")\n",
    "cat(\"10-Fold CV Error:\", cv.10fold_1$delta[1], \"\\n\")\n"
   ]
  },
  {
   "cell_type": "code",
   "execution_count": 30,
   "metadata": {},
   "outputs": [
    {
     "name": "stdout",
     "output_type": "stream",
     "text": [
      "LOOCV Error: 3.523924 \n",
      "5-Fold CV Error: 3.447113 \n",
      "10-Fold CV Error: 3.546636 \n"
     ]
    }
   ],
   "source": [
    "# INSERT CODE HERE\n",
    "\n",
    "# Load boot library\n",
    "library(boot)\n",
    "\n",
    "# Convert categorical variables to numeric\n",
    "Carseats$Urban <- as.numeric(Carseats$Urban)  # Yes = 1, No = 2\n",
    "Carseats$US <- as.numeric(Carseats$US)        # Yes = 1, No = 2\n",
    "Carseats$ShelveLoc <- as.numeric(Carseats$ShelveLoc)  # Bad = 1, Medium = 2, Good = 3\n",
    "\n",
    "# Refit the second model without Population, Education, Urban, and US\n",
    "lm.fit2 <- glm(Sales ~ . - Population - Education - Urban - US, \n",
    "               data = Carseats, \n",
    "               family = gaussian)\n",
    "\n",
    "# Perform Leave-One-Out Cross Validation (LOOCV)\n",
    "cv.loocv_2 <- cv.glm(Carseats, lm.fit2)\n",
    "\n",
    "# Perform 5-Fold Cross Validation\n",
    "cv.5fold_2 <- cv.glm(Carseats, lm.fit2, K = 5)\n",
    "\n",
    "# Perform 10-Fold Cross Validation\n",
    "cv.10fold_2 <- cv.glm(Carseats, lm.fit2, K = 10)\n",
    "\n",
    "# Print the errors\n",
    "cat(\"LOOCV Error:\", cv.loocv_2$delta[1], \"\\n\")\n",
    "cat(\"5-Fold CV Error:\", cv.5fold_2$delta[1], \"\\n\")\n",
    "cat(\"10-Fold CV Error:\", cv.10fold_2$delta[1], \"\\n\")\n"
   ]
  },
  {
   "cell_type": "markdown",
   "metadata": {},
   "source": [
    "### CV for Model Selection\n",
    "\n",
    "Here is a synthetic (noisy) dataset."
   ]
  },
  {
   "cell_type": "code",
   "execution_count": 31,
   "metadata": {},
   "outputs": [
    {
     "data": {
      "image/png": "[encoded data removed]",
      "text/plain": [
       "plot without title"
      ]
     },
     "metadata": {
      "image/png": {
       "height": 420,
       "width": 420
      }
     },
     "output_type": "display_data"
    }
   ],
   "source": [
    "mydf = data.frame(x = runif(100,min = -10, max = 10))\n",
    "mydf$y = sin(mydf$x) + .1*mydf$x^2 + rnorm(100)\n",
    "plot(y ~ x, data = mydf)"
   ]
  },
  {
   "cell_type": "markdown",
   "metadata": {},
   "source": [
    "**Lab-2.1.5**  Fit a linear model to this data. Use 10-fold CV to estimate the error. "
   ]
  },
  {
   "cell_type": "code",
   "execution_count": 32,
   "metadata": {},
   "outputs": [
    {
     "name": "stdout",
     "output_type": "stream",
     "text": [
      "10-Fold CV Error: 9.264796 \n"
     ]
    }
   ],
   "source": [
    "# INSERT CODE HERE\n",
    "\n",
    "# Load library\n",
    "library(boot)\n",
    "\n",
    "# Generate dataset\n",
    "set.seed(100)\n",
    "mydf <- data.frame(x = runif(100, min = -10, max = 10))\n",
    "mydf$y <- sin(mydf$x) + 0.1 * mydf$x^2 + rnorm(100)\n",
    "\n",
    "# Ensure x and y are numeric (to avoid factor issues)\n",
    "mydf$x <- as.numeric(mydf$x)\n",
    "mydf$y <- as.numeric(mydf$y)\n",
    "\n",
    "# Fit a linear regression model\n",
    "lm_fit <- glm(y ~ x, data = mydf, family = gaussian)\n",
    "\n",
    "# Define cost function for cross-validation\n",
    "cost <- function(r, pi = 0) mean((r - pi)^2)\n",
    "\n",
    "# Perform 10-Fold Cross-Validation\n",
    "cv_10fold <- cv.glm(mydf, lm_fit, K = 10, cost = cost)\n",
    "\n",
    "# Print the cross-validation error\n",
    "cat(\"10-Fold CV Error:\", cv_10fold$delta[1], \"\\n\")\n",
    "\n"
   ]
  },
  {
   "cell_type": "markdown",
   "metadata": {},
   "source": [
    "**Lab-2.1.6**  Use the poly() function to fit a quadratic model to this data. Use 10-fold CV to estimate the error."
   ]
  },
  {
   "cell_type": "code",
   "execution_count": 33,
   "metadata": {},
   "outputs": [
    {
     "name": "stdout",
     "output_type": "stream",
     "text": [
      "10-Fold CV Error for Quadratic Model: 1.446231 \n"
     ]
    }
   ],
   "source": [
    "# INSERT CODE HERE\n",
    "\n",
    "# Load Library\n",
    "library(boot)\n",
    "\n",
    "# Generate dataset\n",
    "set.seed(100)\n",
    "mydf <- data.frame(x = runif(100, min = -10, max = 10))\n",
    "mydf$y <- sin(mydf$x) + 0.1 * mydf$x^2 + rnorm(100)\n",
    "\n",
    "# Ensure x and y are numeric (to avoid factor issues)\n",
    "mydf$x <- as.numeric(mydf$x)\n",
    "mydf$y <- as.numeric(mydf$y)\n",
    "\n",
    "# Fit a quadratic regression model using poly()\n",
    "lm_fit_quad <- glm(y ~ poly(x, 2), data = mydf, family = gaussian)\n",
    "\n",
    "# Define cost function for cross-validation\n",
    "cost <- function(r, pi = 0) mean((r - pi)^2)\n",
    "\n",
    "# Perform 10-Fold Cross-Validation\n",
    "cv_10fold_quad <- cv.glm(mydf, lm_fit_quad, K = 10, cost = cost)\n",
    "\n",
    "# Print the cross-validation error\n",
    "cat(\"10-Fold CV Error for Quadratic Model:\", cv_10fold_quad$delta[1], \"\\n\")\n"
   ]
  },
  {
   "cell_type": "markdown",
   "metadata": {},
   "source": [
    "**Lab-2.1.7**  Repeat this for polynomials up to order 15. Make a plot of the generalization error (calculated from CV) versus the order of the polynomial. "
   ]
  },
  {
   "cell_type": "code",
   "execution_count": 34,
   "metadata": {},
   "outputs": [
    {
     "data": {
      "image/png": "[encoded data removed]",
      "text/plain": [
       "Plot with title \"Polynomial Degree vs. Generalization Error\""
      ]
     },
     "metadata": {
      "image/png": {
       "height": 420,
       "width": 420
      }
     },
     "output_type": "display_data"
    }
   ],
   "source": [
    "# INSERT CODE HERE\n",
    "\n",
    "# Load necessary library\n",
    "library(boot)\n",
    "\n",
    "# Generate dataset\n",
    "set.seed(100)\n",
    "mydf <- data.frame(x = runif(100, min = -10, max = 10))\n",
    "mydf$y <- sin(mydf$x) + 0.1 * mydf$x^2 + rnorm(100)\n",
    "\n",
    "# Ensure x and y are numeric (to avoid factor issues)\n",
    "mydf$x <- as.numeric(mydf$x)\n",
    "mydf$y <- as.numeric(mydf$y)\n",
    "\n",
    "# Define cost function for cross-validation\n",
    "cost <- function(r, pi = 0) mean((r - pi)^2)\n",
    "\n",
    "# Initialize vector to store CV errors\n",
    "cv_errors <- numeric(15)  # Store errors for polynomials of degree 1 to 15\n",
    "\n",
    "# Perform cross-validation for polynomial degrees 1 to 15\n",
    "for (d in 1:15) {\n",
    "  # Fit polynomial regression model\n",
    "  lm_fit <- glm(y ~ poly(x, d), data = mydf, family = gaussian)\n",
    "  \n",
    "  # Compute 10-fold CV error\n",
    "  cv_result <- cv.glm(mydf, lm_fit, K = 10, cost = cost)\n",
    "  \n",
    "  # Store the CV error\n",
    "  cv_errors[d] <- cv_result$delta[1]\n",
    "}\n",
    "\n",
    "# Plot the results\n",
    "plot(1:15, cv_errors, type = \"o\", col = \"blue\", pch = 16,\n",
    "     xlab = \"Polynomial Degree\", ylab = \"10-Fold CV Error\",\n",
    "     main = \"Polynomial Degree vs. Generalization Error\")\n"
   ]
  }
 ],
 "metadata": {
  "kernelspec": {
   "display_name": "R",
   "language": "R",
   "name": "ir"
  },
  "language_info": {
   "codemirror_mode": "r",
   "file_extension": ".r",
   "mimetype": "text/x-r-source",
   "name": "R",
   "pygments_lexer": "r",
   "version": "4.4.2"
  }
 },
 "nbformat": 4,
 "nbformat_minor": 4
}
